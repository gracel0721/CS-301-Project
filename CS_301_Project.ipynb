{
  "nbformat": 4,
  "nbformat_minor": 0,
  "metadata": {
    "colab": {
      "name": "CS-301-Project.ipynb",
      "provenance": [],
      "authorship_tag": "ABX9TyOWxg/p51t27iL7JFjyj8dq",
      "include_colab_link": true
    },
    "kernelspec": {
      "name": "python3",
      "display_name": "Python 3"
    },
    "language_info": {
      "name": "python"
    }
  },
  "cells": [
    {
      "cell_type": "markdown",
      "metadata": {
        "id": "view-in-github",
        "colab_type": "text"
      },
      "source": [
        "<a href=\"https://colab.research.google.com/github/gracel0721/CS-301-Project/blob/main/CS_301_Project.ipynb\" target=\"_parent\"><img src=\"https://colab.research.google.com/assets/colab-badge.svg\" alt=\"Open In Colab\"/></a>"
      ]
    },
    {
      "cell_type": "code",
      "execution_count": 1,
      "metadata": {
        "id": "xnB87rHQf_-r"
      },
      "outputs": [],
      "source": [
        "#read through paper\n",
        "#look through kaggle submissions\n",
        "import tensorflow as tf\n",
        "import sklearn\n",
        "import librosa\n",
        "import matplotlib\n"
      ]
    }
  ]
}